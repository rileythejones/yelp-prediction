{
 "cells": [
  {
   "cell_type": "code",
   "execution_count": null,
   "metadata": {},
   "outputs": [],
   "source": [
    "import pandas as pd \n",
    "df = pd.read_json('reviews_businesses_users_100k.json', lines=True)\n",
    "df.shape"
   ]
  },
  {
   "cell_type": "code",
   "execution_count": null,
   "metadata": {},
   "outputs": [],
   "source": [
    "# remove 'attributes', 'categories', 'hours' # solved dict problem \n",
    "# remove 'date' # solved the timestamp problem \n",
    "problems = ['attributes', 'categories', 'hours', 'date']\n",
    "df.drop(columns=problems, inplace=True)\n",
    "\n",
    "df['date_joined'] = pd.to_datetime(df['yelping_since'])\n",
    "df['year_joined'] = df['date_joined'].dt.year\n",
    "df['month_joined'] = df['date_joined'].dt.month\n",
    "df['day_joined'] = df['date_joined'].dt.day\n",
    "df.drop(columns='date_joined', inplace=True)\n",
    "\n",
    "\n",
    "df.shape"
   ]
  },
  {
   "cell_type": "code",
   "execution_count": null,
   "metadata": {},
   "outputs": [],
   "source": [
    "# Prepare \n",
    "from sklearn.model_selection import train_test_split\n",
    "train, test = train_test_split(df, test_size =0.1, shuffle=True, random_state=42)\n",
    "train.shape, test.shape\n",
    "\n",
    "target = \"average_stars_class\"\n",
    "X_train = train.drop(columns=[target, 'average_stars'])\n",
    "y_train = train[target]\n",
    "X_test = test.drop(columns=[target, 'average_stars'])\n",
    "y_test = test[target]\n",
    "\n",
    "from sklearn.pipeline import make_pipeline\n",
    "import category_encoders as ce\n",
    "from sklearn.impute import SimpleImputer\n",
    "transformers = make_pipeline(\n",
    "    ce.OrdinalEncoder(),\n",
    "    SimpleImputer(strategy='median')\n",
    ")\n",
    "X_train_T = transformers.fit_transform(X_train)\n",
    "X_test_T = transformers.transform(X_test)"
   ]
  },
  {
   "cell_type": "code",
   "execution_count": null,
   "metadata": {},
   "outputs": [],
   "source": [
    "from sklearn.linear_model import LinearRegression\n",
    "model = LinearRegression()\n",
    "model.fit(X_train_T, y_train) \n",
    "print(\"Model Score: \", model.score(X_test_T, y_test))"
   ]
  },
  {
   "cell_type": "code",
   "execution_count": null,
   "metadata": {},
   "outputs": [],
   "source": [
    "from sklearn.ensemble import RandomForestRegressor\n",
    "model = RandomForestRegressor(n_estimators=100, n_jobs=-1)\n",
    "model.fit(X_train_T, y_train)\n",
    "print(\"Model Score: \", model.score(X_test_T, y_test))"
   ]
  },
  {
   "cell_type": "code",
   "execution_count": null,
   "metadata": {},
   "outputs": [],
   "source": [
    "from sklearn.ensemble import RandomForestClassifier\n",
    "model = RandomForestClassifier(n_estimators=50, n_jobs=-1)\n",
    "model.fit(X_train_T, y_train)\n",
    "print(\"Model Score: \", model.score(X_test_T, y_test))"
   ]
  },
  {
   "cell_type": "code",
   "execution_count": null,
   "metadata": {},
   "outputs": [],
   "source": [
    "import shap\n",
    "import numpy as np \n",
    "import random \n",
    "\n",
    "rows = 10000\n",
    "row = X_train.iloc[[rows]]\n",
    "\n",
    "explainer = shap.TreeExplainer(model)\n",
    "row_transformed = transformers.transform(row)\n",
    "shap_values = explainer.shap_values(row_transformed)\n",
    "\n",
    "shap.initjs()\n",
    "shap.force_plot(\n",
    "    base_value=explainer.expected_value, # [0]\n",
    "    shap_values=shap_values, #[0]\n",
    "    features=row, \n",
    "    link='identity')"
   ]
  },
  {
   "cell_type": "code",
   "execution_count": null,
   "metadata": {},
   "outputs": [],
   "source": [
    "df['user_review_count'].mean() # baseline is correct for shap plot "
   ]
  },
  {
   "cell_type": "code",
   "execution_count": null,
   "metadata": {},
   "outputs": [],
   "source": [
    "rows = 1000\n",
    "X_train.iloc[[rows]]"
   ]
  },
  {
   "cell_type": "code",
   "execution_count": null,
   "metadata": {},
   "outputs": [],
   "source": [
    "pd.qcut(df['text_length'], q=10).value_counts(normalize=True)"
   ]
  },
  {
   "cell_type": "code",
   "execution_count": null,
   "metadata": {},
   "outputs": [],
   "source": [
    "import plotly.express as px \n",
    "\n",
    "px.scatter(df, x='longitude', y='average_stars', trendline='ols')"
   ]
  },
  {
   "cell_type": "code",
   "execution_count": null,
   "metadata": {},
   "outputs": [],
   "source": [
    "# Engineering\n",
    "import numpy as np \n",
    "\n",
    "deciles = [1, 2, 3, 4, 5, 6, 7, 8, 9, 10]\n",
    "df['text_length'] = df['text'].apply(len)\n",
    "df['text_class'] = pd.qcut(df['text_length'], q=10, labels=deciles)\n",
    "df['text_length_log'] = np.log(df['text_length'])\n",
    "deciles=range(1, 11)\n",
    "df['review_count_class'] = pd.qcut(df['review_count'], q=10, labels=deciles)\n",
    "\n",
    "df['average_stars_class'] = pd.qcut(df['average_stars'], q=10, labels=deciles)\n",
    "\n",
    "import numpy as np\n",
    "df['review_count_log'] = np.log(df['review_count'])\n",
    "\n",
    "df['friends_count'] = df['friends'].apply(len)\n",
    "df['friends_count_log'] = np.log(df['friends_count'])\n"
   ]
  },
  {
   "cell_type": "code",
   "execution_count": null,
   "metadata": {},
   "outputs": [],
   "source": [
    "df.columns"
   ]
  },
  {
   "cell_type": "code",
   "execution_count": null,
   "metadata": {},
   "outputs": [],
   "source": [
    "import plotly.express as px \n",
    "px.scatter_3d(df, x='longitude', y='latitude', z='year_joined',\n",
    "              color='average_stars', symbol='average_stars')"
   ]
  },
  {
   "cell_type": "code",
   "execution_count": null,
   "metadata": {},
   "outputs": [],
   "source": [
    "quintiles=[1, 2, 3, 4, 5, 6, 7, 8, 9, 10]\n",
    "df['average_stars_bin'] = pd.cut(df['average_stars'], 10, labels=quintiles)"
   ]
  },
  {
   "cell_type": "code",
   "execution_count": null,
   "metadata": {},
   "outputs": [],
   "source": [
    "pd.cut(df['average_stars'], 10).value_counts()"
   ]
  },
  {
   "cell_type": "code",
   "execution_count": null,
   "metadata": {},
   "outputs": [],
   "source": [
    "%pylab inline\n",
    "result = df.pivot_table(values='average_stars',\n",
    "                        index='year_joined', columns='review_count_class')\n",
    "\n",
    "figure(num=None, figsize=(8, 6), dpi=100, facecolor='w', edgecolor='k');             \n",
    "import seaborn as sns \n",
    "ax = sns.heatmap(result);\n",
    "\n"
   ]
  },
  {
   "cell_type": "code",
   "execution_count": null,
   "metadata": {},
   "outputs": [],
   "source": [
    "df['postal_code'].value_counts(normalize=True)"
   ]
  },
  {
   "cell_type": "code",
   "execution_count": null,
   "metadata": {},
   "outputs": [],
   "source": []
  },
  {
   "cell_type": "code",
   "execution_count": null,
   "metadata": {},
   "outputs": [],
   "source": [
    "pd.set_option('display.max_rows', 2500)"
   ]
  },
  {
   "cell_type": "code",
   "execution_count": null,
   "metadata": {},
   "outputs": [],
   "source": [
    "df['Caters'].value_counts()"
   ]
  },
  {
   "cell_type": "code",
   "execution_count": null,
   "metadata": {},
   "outputs": [],
   "source": [
    "df.T"
   ]
  },
  {
   "cell_type": "code",
   "execution_count": null,
   "metadata": {},
   "outputs": [],
   "source": []
  },
  {
   "cell_type": "code",
   "execution_count": null,
   "metadata": {},
   "outputs": [],
   "source": []
  },
  {
   "cell_type": "code",
   "execution_count": null,
   "metadata": {},
   "outputs": [],
   "source": []
  },
  {
   "cell_type": "code",
   "execution_count": null,
   "metadata": {},
   "outputs": [],
   "source": []
  },
  {
   "cell_type": "code",
   "execution_count": null,
   "metadata": {},
   "outputs": [],
   "source": []
  },
  {
   "cell_type": "code",
   "execution_count": null,
   "metadata": {},
   "outputs": [],
   "source": []
  },
  {
   "cell_type": "code",
   "execution_count": null,
   "metadata": {},
   "outputs": [],
   "source": []
  },
  {
   "cell_type": "code",
   "execution_count": null,
   "metadata": {},
   "outputs": [],
   "source": []
  },
  {
   "cell_type": "code",
   "execution_count": null,
   "metadata": {},
   "outputs": [],
   "source": []
  },
  {
   "cell_type": "code",
   "execution_count": null,
   "metadata": {},
   "outputs": [],
   "source": []
  },
  {
   "cell_type": "code",
   "execution_count": null,
   "metadata": {},
   "outputs": [],
   "source": []
  },
  {
   "cell_type": "code",
   "execution_count": null,
   "metadata": {},
   "outputs": [],
   "source": []
  },
  {
   "cell_type": "code",
   "execution_count": null,
   "metadata": {},
   "outputs": [],
   "source": []
  },
  {
   "cell_type": "code",
   "execution_count": null,
   "metadata": {},
   "outputs": [],
   "source": []
  },
  {
   "cell_type": "code",
   "execution_count": null,
   "metadata": {},
   "outputs": [],
   "source": []
  },
  {
   "cell_type": "code",
   "execution_count": null,
   "metadata": {},
   "outputs": [],
   "source": []
  }
 ],
 "metadata": {
  "kernelspec": {
   "display_name": "Python 3",
   "language": "python",
   "name": "python3"
  },
  "language_info": {
   "codemirror_mode": {
    "name": "ipython",
    "version": 3
   },
   "file_extension": ".py",
   "mimetype": "text/x-python",
   "name": "python",
   "nbconvert_exporter": "python",
   "pygments_lexer": "ipython3",
   "version": "3.7.4"
  }
 },
 "nbformat": 4,
 "nbformat_minor": 2
}
